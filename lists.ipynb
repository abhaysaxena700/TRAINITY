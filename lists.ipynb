{
  "nbformat": 4,
  "nbformat_minor": 0,
  "metadata": {
    "colab": {
      "provenance": [],
      "authorship_tag": "ABX9TyMT12LzuXLuFfp7snscc8VZ",
      "include_colab_link": true
    },
    "kernelspec": {
      "name": "python3",
      "display_name": "Python 3"
    },
    "language_info": {
      "name": "python"
    }
  },
  "cells": [
    {
      "cell_type": "markdown",
      "metadata": {
        "id": "view-in-github",
        "colab_type": "text"
      },
      "source": [
        "<a href=\"https://colab.research.google.com/github/abhaysaxena700/TRAINITY/blob/main/lists.ipynb\" target=\"_parent\"><img src=\"https://colab.research.google.com/assets/colab-badge.svg\" alt=\"Open In Colab\"/></a>"
      ]
    },
    {
      "cell_type": "code",
      "execution_count": null,
      "metadata": {
        "colab": {
          "base_uri": "https://localhost:8080/"
        },
        "id": "YHCaEtml4zxf",
        "outputId": "e5cca10e-d270-4000-de57-33289e1a663f"
      },
      "outputs": [
        {
          "output_type": "stream",
          "name": "stdout",
          "text": [
            "['LS', 'LM', 'INLAND', 'UIL']\n",
            "<class 'list'>\n",
            "4\n",
            "[True, 'Abhay', 26, 67.5]\n",
            "<class 'list'>\n",
            "4\n",
            "('LS', 'LM', 'INLAND', 'UIL')\n"
          ]
        }
      ],
      "source": [
        "#List Items - Data Types\n",
        "\n",
        "vendor=[\"LS\", \"LM\", \"INLAND\", \"UIL\"]\n",
        "print(vendor)\n",
        "print(type(vendor))\n",
        "print(len(vendor))\n",
        "\n",
        "check=[ True, \"Abhay\", 26, 67.5]\n",
        "print(check)\n",
        "print(type(check))\n",
        "print(len(check))\n",
        "\n",
        "#The list() Constructor\n",
        "\n",
        "the_vendor=((\"LS\", \"LM\", \"INLAND\", \"UIL\"))\n",
        "print(the_vendor)"
      ]
    },
    {
      "cell_type": "code",
      "source": [
        "#Python - Access List Items\n",
        "\n",
        "department=[\"DRI\", \"IBMD\", \"INBOUND\", \"OUTBOUND\", \"UTILITY\", \"RMHS\",\"RMPP\",\"SP\", \"CRM\", \"HSM\"]\n",
        "print(department[4])\n",
        "print(department[-1])\n",
        "print(department[1:4])\n",
        "print(department[:4])\n",
        "print(department[4:])\n",
        "print(department[-4:-1])"
      ],
      "metadata": {
        "colab": {
          "base_uri": "https://localhost:8080/"
        },
        "id": "zPgqLLNx6zg3",
        "outputId": "0cc152ef-b231-4736-b335-076d44a666d2"
      },
      "execution_count": null,
      "outputs": [
        {
          "output_type": "stream",
          "name": "stdout",
          "text": [
            "UTILITY\n",
            "HSM\n",
            "['IBMD', 'INBOUND', 'OUTBOUND']\n",
            "['DRI', 'IBMD', 'INBOUND', 'OUTBOUND']\n",
            "['UTILITY', 'RMHS', 'RMPP', 'SP', 'CRM', 'HSM']\n",
            "['RMPP', 'SP', 'CRM']\n"
          ]
        }
      ]
    },
    {
      "cell_type": "code",
      "source": [
        "#Python - Change List Items\n",
        "\n",
        "vendor=[\"IBL\",\"OBL\",\"CRM\",\"HSM\"]\n",
        "vendor[1]=\"SP\"\n",
        "vendor[2]=\"DRI\"\n",
        "vendor[3]=\"RMHS\"\n",
        "print(vendor)"
      ],
      "metadata": {
        "colab": {
          "base_uri": "https://localhost:8080/"
        },
        "id": "kxkFk6K0_pFY",
        "outputId": "2f5f6f66-215e-491c-8c5a-b29a176f382f"
      },
      "execution_count": null,
      "outputs": [
        {
          "output_type": "stream",
          "name": "stdout",
          "text": [
            "['IBL', 'SP', 'DRI', 'RMHS']\n"
          ]
        }
      ]
    },
    {
      "cell_type": "code",
      "source": [
        "#Python - Add List Items\n",
        "\n",
        "vendor=[\"IBL\",\"OBL\",\"CRM\",\"HSM\"]\n",
        "vendor.append(\"Dri\")\n",
        "print(vendor)\n",
        "vendor.insert(2,\"SP\")\n",
        "print(vendor)\n",
        "\n",
        "department_1=[\"DRI\", \"IBMD\", \"INBOUND\", \"OUTBOUND\"]\n",
        "department_2=[\"UTILITY\", \"RMHS\",\"RMPP\",\"SP\", \"CRM\", \"HSM\"]\n",
        "department_2.extend(department_1)\n",
        "print(department_2)\n",
        "print(\"------------------------------\")\n",
        "dep_1=[\"DRI\", \"IBMD\", \"INBOUND\", \"OUTBOUND\"]\n",
        "dep_2={\"UTILITY\", \"RMHS\",\"RMPP\",\"SP\", \"CRM\", \"HSM\"}\n",
        "dep_1.extend(dep_2)\n",
        "print(dep_1)"
      ],
      "metadata": {
        "colab": {
          "base_uri": "https://localhost:8080/"
        },
        "id": "vXaNlEGw3d60",
        "outputId": "39993361-ec2c-4f2d-dcfc-c5b10fb8c8ed"
      },
      "execution_count": null,
      "outputs": [
        {
          "output_type": "stream",
          "name": "stdout",
          "text": [
            "['IBL', 'OBL', 'CRM', 'HSM', 'Dri']\n",
            "['IBL', 'OBL', 'SP', 'CRM', 'HSM', 'Dri']\n",
            "['UTILITY', 'RMHS', 'RMPP', 'SP', 'CRM', 'HSM', 'DRI', 'IBMD', 'INBOUND', 'OUTBOUND']\n",
            "------------------------------\n",
            "['DRI', 'IBMD', 'INBOUND', 'OUTBOUND', 'UTILITY', 'HSM', 'CRM', 'RMHS', 'SP', 'RMPP']\n"
          ]
        }
      ]
    },
    {
      "cell_type": "code",
      "source": [
        "#Remove Specified Item\n",
        "\n",
        "vendor=[\"LS\", \"LM\", \"INLAND\", \"UIL\", \"INLAND\"]\n",
        "vendor.remove(\"INLAND\")   #If there are more than one item with the specified value, the remove() method removes the first occurrence:\n",
        "print(vendor)\n",
        "\n",
        "#Remove Specified Index\n",
        "\n",
        "vendor=[\"LS\", \"LM\", \"INLAND\", \"UIL\", \"INLAND\"]\n",
        "vendor.pop(4)\n",
        "print(vendor)\n",
        "vendor.pop()  #If you do not specify the index, the pop() method removes the last item.\n",
        "print(vendor)\n",
        "\n",
        "del vendor[2]\n",
        "print(vendor)\n",
        "\n",
        "vendor=[\"LS\", \"LM\", \"INLAND\", \"UIL\", \"INLAND\"]\n",
        "vendor.clear()\n",
        "print(vendor)\n",
        "\n"
      ],
      "metadata": {
        "colab": {
          "base_uri": "https://localhost:8080/"
        },
        "id": "Wk_SMMla55Od",
        "outputId": "c932ac37-1738-4db3-f1f5-93f52ce86fd3"
      },
      "execution_count": null,
      "outputs": [
        {
          "output_type": "stream",
          "name": "stdout",
          "text": [
            "['LS', 'LM', 'UIL', 'INLAND']\n",
            "['LS', 'LM', 'INLAND', 'UIL']\n",
            "['LS', 'LM', 'INLAND']\n",
            "['LS', 'LM']\n",
            "[]\n"
          ]
        }
      ]
    },
    {
      "cell_type": "code",
      "source": [
        "#Python - Loop Lists\n",
        "\n",
        "vendor=[\"LS\", \"LM\", \"INLAND\", \"UIL\"]\n",
        "for x in vendor:\n",
        "  print(x)\n",
        "\n",
        "print(\"--------------------------\")\n",
        "\n",
        "#Loop Through the Index Numbers\n",
        "\n",
        "\n",
        "vendor=[\"LS\", \"LM\", \"INLAND\", \"UIL\"]\n",
        "for x in range(0,3):\n",
        "  print(vendor[x])\n",
        "print(\"--------------------------\")\n",
        "vendor=[\"LS\", \"LM\", \"INLAND\", \"UIL\"]\n",
        "for x in range(len(vendor)):\n",
        "  print(vendor[x])\n",
        "\n",
        "#Using a While Loop\n",
        "print(\"--------------------------\")\n",
        "vendor=[\"LS\", \"LM\", \"INLAND\", \"UIL\"]\n",
        "print(len(vendor))\n",
        "i = 0\n",
        "while i < len(vendor):\n",
        "  print(vendor[i])\n",
        "  i = i + 1\n",
        "\n",
        "#Looping Using List Comprehension\n",
        "print(\"--------------------------\")\n",
        "vendor=[\"LS\", \"LM\", \"INLAND\", \"UIL\"]\n",
        "[print (x) for x in vendor]\n",
        "\n"
      ],
      "metadata": {
        "colab": {
          "base_uri": "https://localhost:8080/"
        },
        "id": "v76KOL4A8u9i",
        "outputId": "bf213258-fa75-4fd1-c45c-f71c2c1ea4c0"
      },
      "execution_count": null,
      "outputs": [
        {
          "output_type": "stream",
          "name": "stdout",
          "text": [
            "LS\n",
            "LM\n",
            "INLAND\n",
            "UIL\n",
            "--------------------------\n",
            "LS\n",
            "LM\n",
            "INLAND\n",
            "--------------------------\n",
            "LS\n",
            "LM\n",
            "INLAND\n",
            "UIL\n",
            "--------------------------\n",
            "4\n",
            "LS\n",
            "LM\n",
            "INLAND\n",
            "UIL\n",
            "--------------------------\n",
            "LS\n",
            "LM\n",
            "INLAND\n",
            "UIL\n"
          ]
        },
        {
          "output_type": "execute_result",
          "data": {
            "text/plain": [
              "[None, None, None, None]"
            ]
          },
          "metadata": {},
          "execution_count": 65
        }
      ]
    },
    {
      "cell_type": "code",
      "source": [
        "#Python - List Comprehension\n",
        "\n",
        "vendor=[\"Logistics\", \"Lucky\", \" Inland\", \"Uil\", \"Imsas\", \"Abreast\", \"Jagdish\"]\n",
        "new_vendor=[]\n",
        "for x in vendor:\n",
        "  if \"i\" in x:\n",
        "    new_vendor.append(x)\n",
        "print(new_vendor)\n",
        "\n",
        "vendor2=[x for x in vendor if \"i\" in x]\n",
        "print(vendor2)\n",
        "\n",
        "vendor3=[x for x in vendor if x != \"Jagdish\"]\n",
        "print(vendor3)\n",
        "\n",
        "vendor4=[x.upper() for x in vendor]\n",
        "print(vendor4)\n",
        "\n",
        "vendor5=['Hello' for x in vendor]\n",
        "print(vendor5)\n",
        "\n",
        "vendor6=[x if x != \"Jagdish\" else \"Hello\" for x in vendor]\n",
        "print(vendor6)\n"
      ],
      "metadata": {
        "colab": {
          "base_uri": "https://localhost:8080/"
        },
        "id": "zGyafxgZBkb-",
        "outputId": "aee4d54a-405f-417a-b214-e56015d9c758"
      },
      "execution_count": null,
      "outputs": [
        {
          "output_type": "stream",
          "name": "stdout",
          "text": [
            "['Logistics', 'Uil', 'Jagdish']\n",
            "['Logistics', 'Uil', 'Jagdish']\n",
            "['Logistics', 'Lucky', ' Inland', 'Uil', 'Imsas', 'Abreast']\n",
            "['LOGISTICS', 'LUCKY', ' INLAND', 'UIL', 'IMSAS', 'ABREAST', 'JAGDISH']\n",
            "['Hello', 'Hello', 'Hello', 'Hello', 'Hello', 'Hello', 'Hello']\n",
            "['Logistics', 'Lucky', ' Inland', 'Uil', 'Imsas', 'Abreast', 'Hello']\n"
          ]
        }
      ]
    },
    {
      "cell_type": "code",
      "source": [
        "#Iterable\n",
        "\n",
        "num=[x for x in range (10)]\n",
        "print(num)\n",
        "num2=[x for x in range (10) if x%2==0]\n",
        "print(num2)"
      ],
      "metadata": {
        "colab": {
          "base_uri": "https://localhost:8080/"
        },
        "id": "Mp2r_DO7Yo4W",
        "outputId": "dce8c776-e783-4b43-cebc-7ec2f25c54d0"
      },
      "execution_count": null,
      "outputs": [
        {
          "output_type": "stream",
          "name": "stdout",
          "text": [
            "[0, 1, 2, 3, 4, 5, 6, 7, 8, 9]\n",
            "[0, 2, 4, 6, 8]\n"
          ]
        }
      ]
    },
    {
      "cell_type": "code",
      "source": [
        "#Python - Sort Lists\n",
        "\n",
        "vendor=[\"Logistics\", \"Lucky\", \"Inland\", \"Uil\", \"Imsas\", \"Abreast\", \"Jagdish\"]\n",
        "vendor.sort()\n",
        "print(vendor)\n",
        "print(\"--------------------\")\n",
        "vendor.sort(reverse=True)\n",
        "print(vendor)"
      ],
      "metadata": {
        "colab": {
          "base_uri": "https://localhost:8080/"
        },
        "id": "7l4zGgFOZtMZ",
        "outputId": "21c66e15-2de3-4190-c095-f6e57ca268fc"
      },
      "execution_count": null,
      "outputs": [
        {
          "output_type": "stream",
          "name": "stdout",
          "text": [
            "['Abreast', 'Imsas', 'Inland', 'Jagdish', 'Logistics', 'Lucky', 'Uil']\n",
            "--------------------\n",
            "['Uil', 'Lucky', 'Logistics', 'Jagdish', 'Inland', 'Imsas', 'Abreast']\n"
          ]
        }
      ]
    },
    {
      "cell_type": "code",
      "source": [
        "from ast import Return\n",
        "#Customize Sort Function\n",
        "\n",
        "def myfunc(n):\n",
        "  return abs(n-9)\n",
        "num=[2,6,4,8,12,10,18,14]\n",
        "num.sort(key=myfunc) #Sort the list based on how close the number is to 9:\n",
        "print(num)"
      ],
      "metadata": {
        "colab": {
          "base_uri": "https://localhost:8080/"
        },
        "id": "gF0AtTXxa80L",
        "outputId": "874288c7-5749-4571-a087-c2e0dfe88689"
      },
      "execution_count": null,
      "outputs": [
        {
          "output_type": "stream",
          "name": "stdout",
          "text": [
            "[8, 10, 6, 12, 4, 14, 2, 18]\n"
          ]
        }
      ]
    },
    {
      "cell_type": "code",
      "source": [
        "#Case Insensitive Sort\n",
        "\n",
        "vendor=[\"Logistics\", \"lucky\", \"Inland\", \"Uil\", \"imsas\", \"Abreast\", \"jagdish\"]\n",
        "vendor.sort()\n",
        "print(vendor)"
      ],
      "metadata": {
        "colab": {
          "base_uri": "https://localhost:8080/"
        },
        "id": "Yt-xDNnffjGW",
        "outputId": "bd5499b9-c34f-42cd-cd32-8c6864347e69"
      },
      "execution_count": null,
      "outputs": [
        {
          "output_type": "stream",
          "name": "stdout",
          "text": [
            "['Abreast', 'Inland', 'Logistics', 'Uil', 'imsas', 'jagdish', 'lucky']\n"
          ]
        }
      ]
    },
    {
      "cell_type": "code",
      "source": [
        "#Reverse Order\n",
        "\n",
        "vendor=[\"Logistics\", \"Lucky\", \"Inland\", \"Uil\", \"Imsas\", \"Abreast\", \"Jagdish\"]\n",
        "vendor.reverse()\n",
        "print(vendor)"
      ],
      "metadata": {
        "colab": {
          "base_uri": "https://localhost:8080/"
        },
        "id": "sO098fHTgqLr",
        "outputId": "1ea293b8-3b3b-4d3d-9b06-7b07294dbe3d"
      },
      "execution_count": null,
      "outputs": [
        {
          "output_type": "stream",
          "name": "stdout",
          "text": [
            "['Jagdish', 'Abreast', 'Imsas', 'Uil', 'Inland', 'Lucky', 'Logistics']\n"
          ]
        }
      ]
    },
    {
      "cell_type": "code",
      "source": [
        "#Python - Copy Lists\n",
        "\n",
        "vendor=[\"Logistics\", \"Lucky\", \"Inland\", \"Uil\", \"Imsas\", \"Abreast\", \"Jagdish\"]\n",
        "transporter1=vendor.copy()\n",
        "print(transporter1)\n",
        "print(\"--------------------\")\n",
        "transporter2=list(vendor)\n",
        "print(transporter2)\n",
        "print(\"--------------------\")\n",
        "transporter3=vendor[:]\n",
        "print(transporter3)\n"
      ],
      "metadata": {
        "colab": {
          "base_uri": "https://localhost:8080/"
        },
        "id": "3BUK8wlkhS0F",
        "outputId": "bb22acb1-52c9-4866-b49c-510363121bc9"
      },
      "execution_count": null,
      "outputs": [
        {
          "output_type": "stream",
          "name": "stdout",
          "text": [
            "['Logistics', 'Lucky', 'Inland', 'Uil', 'Imsas', 'Abreast', 'Jagdish']\n",
            "--------------------\n",
            "['Logistics', 'Lucky', 'Inland', 'Uil', 'Imsas', 'Abreast', 'Jagdish']\n",
            "--------------------\n",
            "['Logistics', 'Lucky', 'Inland', 'Uil', 'Imsas', 'Abreast', 'Jagdish']\n"
          ]
        }
      ]
    },
    {
      "cell_type": "code",
      "source": [
        "#Python - Join Lists\n",
        "\n",
        "vendor1=[\"Logistics\", \"Lucky\", \"Inland\"]\n",
        "vendor2=[\"Uil\", \"Imsas\", \"Abreast\", \"Jagdish\"]\n",
        "vendor3=vendor1+vendor2\n",
        "print(vendor3)\n",
        "print(\"--------------------\")\n",
        "for x in vendor2:\n",
        "  vendor1.append(x)\n",
        "print(vendor1)\n",
        "print(\"--------------------\")\n",
        "vendor1.extend(vendor2)\n",
        "print(vendor1)"
      ],
      "metadata": {
        "colab": {
          "base_uri": "https://localhost:8080/"
        },
        "id": "KXUilQwnhzeC",
        "outputId": "ba0b314a-b1fd-4bf2-96e1-c9c699c14093"
      },
      "execution_count": null,
      "outputs": [
        {
          "output_type": "stream",
          "name": "stdout",
          "text": [
            "['Logistics', 'Lucky', 'Inland', 'Uil', 'Imsas', 'Abreast', 'Jagdish']\n",
            "--------------------\n",
            "['Logistics', 'Lucky', 'Inland', 'Uil', 'Imsas', 'Abreast', 'Jagdish']\n",
            "--------------------\n",
            "['Logistics', 'Lucky', 'Inland', 'Uil', 'Imsas', 'Abreast', 'Jagdish', 'Uil', 'Imsas', 'Abreast', 'Jagdish']\n"
          ]
        }
      ]
    }
  ]
}